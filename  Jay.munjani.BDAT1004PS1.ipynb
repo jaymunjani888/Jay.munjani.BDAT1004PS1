{
 "cells": [
  {
   "cell_type": "markdown",
   "id": "6d88d3a6",
   "metadata": {},
   "source": [
    "# question 1\n",
    "#Q1 What data type is each of the following?\n",
    "\n",
    "5\n",
    "5.0\n",
    "5 > 1\n",
    "'5'\n",
    "5 * 2\n",
    "'5' * 2\n",
    "'5' + '2'\n",
    "5 / 2\n",
    "5%2\n",
    "{5, 2, 1}\n",
    "5 == 3\n",
    "Pi(the number)\n"
   ]
  },
  {
   "cell_type": "markdown",
   "id": "27b6f3f2",
   "metadata": {},
   "source": [
    "Answer: \n",
    "\n",
    "5              :integer \n",
    "5.0            :float\n",
    "5 > 1          : boolean\n",
    "'5'            : char\n",
    "5 * 2          : integer\n",
    "'5' * 2        : string\n",
    "'5' + '2'      : string\n",
    "5 / 2          : integer\n",
    "5 % 2          : integer\n",
    "{5, 2, 1}      : array\n",
    "5 == 3         : boolean\n",
    "Pi(the number) = 3.14 : float"
   ]
  },
  {
   "cell_type": "markdown",
   "id": "120c965d",
   "metadata": {},
   "source": [
    "# question 2\n",
    "Question 2 Write (and evaluate) C# expressions that answer these questions:\n",
    "\n",
    "a. How many letters are there in 'Supercalifragilisticexpialidocious'?\n"
   ]
  },
  {
   "cell_type": "code",
   "execution_count": 3,
   "id": "0dbf07c3",
   "metadata": {},
   "outputs": [
    {
     "name": "stdout",
     "output_type": "stream",
     "text": [
      " Total latters in  Supercalifragilisticexpialidocious is :34\r\n"
     ]
    }
   ],
   "source": [
    "string str = \"Supercalifragilisticexpialidocious\";\n",
    "int length = str.Length;\n",
    "Console.WriteLine(\" Total latters in  \" + str + \" is :\"  + length);"
   ]
  },
  {
   "cell_type": "markdown",
   "id": "4bd817a7",
   "metadata": {},
   "source": [
    "b.Does 'Supercalifragilisticexpialidocious' contain 'ice' as a substring?"
   ]
  },
  {
   "cell_type": "code",
   "execution_count": 5,
   "id": "cb24ed94",
   "metadata": {},
   "outputs": [
    {
     "name": "stdout",
     "output_type": "stream",
     "text": [
      "the string ice present in Supercalifragilisticexpialidocious and start from 19 character \r\n"
     ]
    }
   ],
   "source": [
    "string s1 = \"Supercalifragilisticexpialidocious\";\n",
    "string s2 = \"ice\";\n",
    "bool b = s1.Contains(s2);\n",
    "                \n",
    "if (b)\n",
    "{\n",
    "    int index = s1.IndexOf(s2);\n",
    "    if (index >= 0)\n",
    "        Console.WriteLine(\"the string \"+s2+\" present in \"+s1+\" and start from \"+(index+1)+\" character \" );\n",
    "}\n",
    "else{\n",
    "    Console.WriteLine(\" string  \"+s2+\" is not present in \"+ s1);\n",
    "}"
   ]
  },
  {
   "cell_type": "markdown",
   "id": "adc9bc96",
   "metadata": {},
   "source": [
    "c.Which of the following words is the longest:\n",
    "Supercalifragilisticexpialidocious, Honorificabilitudinitatibus, or\n",
    "Bababadalgharaghtakamminarronnkonn?"
   ]
  },
  {
   "cell_type": "code",
   "execution_count": 7,
   "id": "3f2cea9c",
   "metadata": {},
   "outputs": [
    {
     "name": "stdout",
     "output_type": "stream",
     "text": [
      "the string Bababadalgharaghtakamminarronnkonn is longest. and length is  27\r\n"
     ]
    }
   ],
   "source": [
    "string s1 = \"Supercalifragilisticexpialidocious\";\n",
    "string s2 = \"Honorificabilitudinitatibus\";\n",
    "string s3 = \"Bababadalgharaghtakamminarronnkonn\";\n",
    "int l1= s1.Length;\n",
    "int l2= s2.Length;\n",
    "int l3= s3.Length;\n",
    "if(l1>l2)\n",
    "{\n",
    "\tif(l1>l3)\n",
    "\t{\n",
    "\t\tConsole.WriteLine(\"the string \"+s1+\" is longest. and length is  \"+l1 );\n",
    "\t}else\n",
    "\t{\n",
    "\t\tConsole.WriteLine(\"the string \"+s3+\" is longest. and length is  \"+l2 );\n",
    "\t}\n",
    "}else\n",
    "{\n",
    "\tConsole.WriteLine(\"the string \"+s2+\" is longest. and length is  \"+l2 );\n",
    "}\n",
    "\n"
   ]
  },
  {
   "cell_type": "markdown",
   "id": "ea4fab56",
   "metadata": {},
   "source": [
    "D. Which composer comes first in the dictionary: 'Berlioz', 'Borodin', 'Brian',\n",
    "'Bartok', 'Bellini', 'Buxtehude', 'Bernstein'. Which one comes last?"
   ]
  },
  {
   "cell_type": "code",
   "execution_count": 2,
   "id": "3add2245",
   "metadata": {},
   "outputs": [
    {
     "name": "stdout",
     "output_type": "stream",
     "text": [
      "first element in dictionary is : Bartok\n",
      "Last element in dictionary is : Buxtehude\n"
     ]
    }
   ],
   "source": [
    "SortedDictionary<string , string> names = new SortedDictionary<string, string>(); \n",
    "           names.Add(\"Berlioz\",\"1\"); \n",
    "           names.Add(\"Borodin\",\"2\");\n",
    "           names.Add(\"Brian\",\"3\");\n",
    "           names.Add(\"Bartok\",\"4\"); \n",
    "           names.Add(\"Bellini\",\"5\");\n",
    "           names.Add(\"Buxtehude\",\"6\");\n",
    "           names.Add(\"Bernstein\",\"7\");\n",
    "\n",
    "Console.WriteLine(\"first element in dictionary is : {0}\",names.ElementAt(0).Key);\n",
    "Console.WriteLine(\"Last element in dictionary is : {0}\",names.ElementAt(names.Count-1).Key);"
   ]
  },
  {
   "cell_type": "markdown",
   "id": "c35eac05",
   "metadata": {},
   "source": [
    "# question 3\n",
    "Question 3  Implement function triangleArea(a,b,c) that takes as input the lengths of the 3\n",
    "sides of a triangle and returns the area of the triangle. By Heron's formula, the area\n",
    "of a triangle with side lengths a, b, and c is\n",
    "s(s - a)(s -b)(s -c), where\n",
    "s = (a +b + c) /2."
   ]
  },
  {
   "cell_type": "code",
   "execution_count": 11,
   "id": "df36ac8b",
   "metadata": {},
   "outputs": [],
   "source": [
    "class Class1\n",
    "    {\n",
    "        public double area(double a, double b, double c)\n",
    "        {\n",
    "           \n",
    "            double s=0;\n",
    "            s= (a+b+c)/2;\n",
    "            double x = s * (s - a) * (s - b) * (s - c);\n",
    "            double area = Math.Sqrt(x);\n",
    "            return area; \n",
    "        }\n",
    "\n",
    "    }"
   ]
  },
  {
   "cell_type": "code",
   "execution_count": 12,
   "id": "01e5ded9",
   "metadata": {},
   "outputs": [
    {
     "name": "stdout",
     "output_type": "stream",
     "text": [
      " area of tringle 1.7320508075688772\r\n"
     ]
    }
   ],
   "source": [
    "Class1 class1 = new Class1();\n",
    "double totalarea=class1.area(2, 2, 2);\n",
    "Console.WriteLine(\" area of tringle \" + totalarea);"
   ]
  },
  {
   "cell_type": "markdown",
   "id": "6d5487d3",
   "metadata": {},
   "source": [
    "# Question 4 \n",
    "Write a program in C# Sharp to separate odd and even integers in separate arrays.\n",
    "Go to the editor\n",
    "Test Data :\n",
    "Input the number of elements to be stored in the array :5\n",
    "Input 5 elements in the array :\n",
    "element - 0 : 25\n",
    "element - 1 : 47\n",
    "element - 2 : 42\n",
    "element - 3 : 56\n",
    "element - 4 : 32"
   ]
  },
  {
   "cell_type": "code",
   "execution_count": 16,
   "id": "ceb4ab28",
   "metadata": {},
   "outputs": [],
   "source": [
    "class Class1\n",
    "    {\n",
    "        public int checkOE(int a)\n",
    "        {\n",
    "            if(a%2==0)\n",
    "            {\n",
    "            \n",
    "            return 0;\n",
    "            }\n",
    "            else{\n",
    "            return 1;\n",
    "            } \n",
    "        }\n",
    "\n",
    "    }\n",
    "//Class1 class1 = new Class1();\n",
    "//int oddeven=class1.checkOE(44);\n",
    "//Console.WriteLine(oddeven);"
   ]
  },
  {
   "cell_type": "code",
   "execution_count": 15,
   "id": "a18c17c0",
   "metadata": {},
   "outputs": [
    {
     "name": "stdout",
     "output_type": "stream",
     "text": [
      "== odd number array output ==\n",
      "25\n",
      "47\n",
      "0\n",
      "0\n",
      "0\n",
      "== even number array output ==\n",
      "0\n",
      "0\n",
      "42\n",
      "56\n",
      "32\n"
     ]
    }
   ],
   "source": [
    "int[] arr = new int[5];\n",
    "int[] even = new int[5];\n",
    "int[] odd = new int[5];\n",
    "        arr[0] = 25;\n",
    "        arr[1] = 47;\n",
    "        arr[2] = 42;\n",
    "        arr[3] = 56;\n",
    "        arr[4] = 32;\n",
    "Class1 class1 = new Class1();\n",
    "int j =0;\n",
    "        for (int i = 0; i < arr.Length; i++)\n",
    "        {\n",
    "            \n",
    "            int oddeven=class1.checkOE(arr[i]);\n",
    "            if(oddeven==0)\n",
    "            {\n",
    "                even[j]=arr[i];\n",
    "                j=j+1;\n",
    "            }else{\n",
    "            odd[j]=arr[i];\n",
    "            j=j+1;\n",
    "            }\n",
    "        }\n",
    "        \n",
    "Console.WriteLine(\"== odd number array output ==\");        \n",
    " foreach (var item in odd) {\n",
    "            Console.WriteLine(item);  }\n",
    "Console.WriteLine(\"== even number array output ==\");            \n",
    "foreach (var item in even) {\n",
    "            Console.WriteLine(item);  }      "
   ]
  },
  {
   "cell_type": "markdown",
   "id": "ed30b427",
   "metadata": {},
   "source": [
    "# question 5\n",
    "\n",
    "A. Write a function inside(x,y,x1,y1,x2,y2) that returns True or False depending on whether the point (x,y) lies in the rectangle with lower left corner (x1,y1) and upper right corner (x2,y2)."
   ]
  },
  {
   "cell_type": "code",
   "execution_count": 50,
   "id": "35e17ad4",
   "metadata": {},
   "outputs": [],
   "source": [
    "using System;\n",
    "\n",
    "public class class1\n",
    "{\n",
    "\n",
    "public Boolean inside(double x, double y,double x1, double y1, double x2,double y2)\n",
    "{\n",
    "if (x > x1 && x < x2 && y > y1 && y < y2){return true;}\n",
    "    else{return false;}\n",
    "}}"
   ]
  },
  {
   "cell_type": "code",
   "execution_count": 51,
   "id": "dec18742",
   "metadata": {},
   "outputs": [
    {
     "name": "stdout",
     "output_type": "stream",
     "text": [
      "True"
     ]
    }
   ],
   "source": [
    "class1 cla = new class1();\n",
    "Boolean val=cla.inside(1,1,0,0,2,3);\n",
    "if (val){\n",
    "Console.Write(\"True\");}\n",
    "else{\n",
    "Console.Write(\"False\");\n",
    "}\n"
   ]
  },
  {
   "cell_type": "code",
   "execution_count": 52,
   "id": "f3d60866",
   "metadata": {},
   "outputs": [
    {
     "name": "stdout",
     "output_type": "stream",
     "text": [
      "False"
     ]
    }
   ],
   "source": [
    "class1 cla = new class1();\n",
    "Boolean val=cla.inside(-1,-1,0,0,2,3);\n",
    "if (val){\n",
    "Console.Write(\"True\");}\n",
    "else{\n",
    "Console.Write(\"False\");\n",
    "}\n"
   ]
  },
  {
   "cell_type": "markdown",
   "id": "e7745ca1",
   "metadata": {},
   "source": [
    "B.Use function inside() from part a. to write an expression that tests whether the point (1,1) lies in both of the following rectangles: one with lower left corner (0.3, 0.5) and upper right corner (1.1, 0.7) and the other with lower left corner (0.5, 0.2) and upper right corner (1.1, 2)."
   ]
  },
  {
   "cell_type": "code",
   "execution_count": 57,
   "id": "f038da22",
   "metadata": {},
   "outputs": [
    {
     "name": "stdout",
     "output_type": "stream",
     "text": [
      "False\n",
      "==============\n",
      "True"
     ]
    }
   ],
   "source": [
    "class1 cla = new class1();\n",
    "Boolean val=cla.inside(1,1,0.3,0.5,1.1,0.7);\n",
    "Boolean val2=cla.inside(1,1,0.5,0.2,1.1,2);\n",
    "if (val){\n",
    "Console.Write(\"True\");}\n",
    "else{\n",
    "Console.Write(\"False\");\n",
    "}\n",
    "Console.Write(\"\\n==============\\n\");\n",
    "if (val2){\n",
    "Console.Write(\"True\");}\n",
    "else{\n",
    "Console.Write(\"False\");\n",
    "}"
   ]
  },
  {
   "cell_type": "markdown",
   "id": "da100444",
   "metadata": {},
   "source": [
    "# question 6 \n",
    "You can turn a word into pig-Latin using the following two rules (simplified):\n",
    "• If the word starts with a consonant, move that letter to the end and append 'ay'. For example, 'happy' becomes 'appyhay' and 'pencil' becomes 'encilpay'.\n",
    "• If the word starts with a vowel, simply append 'way' to the end of the word. For example, 'enter' becomes 'enterway' and 'other' becomes 'otherway' . For our purposes, there are 5 vowels: a, e, i, o, u (so we count y as a consonant).\n",
    "Write a function pig() that takes a word (i.e., a string) as input and returns its pig-Latin form. Your function should still work if the input word contains upper case characters. Your output should always be lower case however."
   ]
  },
  {
   "cell_type": "code",
   "execution_count": 4,
   "id": "c88f5dda",
   "metadata": {},
   "outputs": [
    {
     "name": "stdout",
     "output_type": "stream",
     "text": [
      "appyhay\n",
      "enterway\n"
     ]
    },
    {
     "data": {
      "text/plain": [
       "'enterway'"
      ]
     },
     "execution_count": 4,
     "metadata": {},
     "output_type": "execute_result"
    }
   ],
   "source": [
    "wovels= ['a','e','i','o','u']\n",
    "\n",
    "\n",
    "def pig(str):\n",
    "    j=0\n",
    "    j=str[0]\n",
    "    if j in wovels:\n",
    "        newstr = str+'way'\n",
    "        print(newstr)\n",
    "    else:\n",
    "        newstr = str[1:]+str[0:1]+'ay'\n",
    "        print(newstr)\n",
    "    return newstr\n",
    "\n",
    "pig('happy')\n",
    "\n",
    "pig('enter')\n"
   ]
  },
  {
   "cell_type": "markdown",
   "id": "48a9f3bc",
   "metadata": {},
   "source": [
    "# question 7\n",
    "File bloodtype1.txt records blood-types of patients (A, B, AB, O or OO) at a clinic. Write a function bldcount() that reads the file with name name and reports (i.e., prints) how many patients there are in each bloodtype."
   ]
  },
  {
   "cell_type": "code",
   "execution_count": 1,
   "id": "d5b2784f",
   "metadata": {},
   "outputs": [
    {
     "name": "stdout",
     "output_type": "stream",
     "text": [
      "['AB', 'AB', 'B', 'O', 'A', 'A', 'AB', 'O', 'AB', 'A', 'O', 'O', 'A', 'A', 'A', 'O', 'O', 'O', 'AB', 'O', 'A', 'A', 'A', 'A', 'A', 'AB', 'AB', 'A', 'AB', 'O', 'AB', 'O', 'A', 'O', 'O', 'O', 'AB', 'O', 'AB', 'AB', 'AB', 'A', 'A', 'O']\n",
      "There are  15 patients of blood type A.\n",
      "There are  1 patients of blood type B.\n",
      "There are  13 patients of blood type AB.\n",
      "There are  15 patients of blood type O.\n",
      "There are  0 patients of blood type OO.\n"
     ]
    }
   ],
   "source": [
    "blood_file = open(\"bloodtype1.txt\", \"r\")\n",
    "\n",
    "blood_list_patient = []\n",
    "for line in blood_file:\n",
    "  blood_list_patient = line.split()\n",
    "\n",
    "blood_file.close()\n",
    "print(blood_list_patient)\n",
    "\n",
    "\n",
    "\n",
    "countA = blood_list_patient.count('A')\n",
    "print(\"There are \" ,countA, \"patients of blood type A.\")\n",
    "\n",
    "countA = blood_list_patient.count('B')\n",
    "print(\"There are \" ,countA, \"patients of blood type B.\")\n",
    "\n",
    "countA = blood_list_patient.count('AB')\n",
    "print(\"There are \" ,countA, \"patients of blood type AB.\")\n",
    "\n",
    "countA = blood_list_patient.count('O')\n",
    "print(\"There are \" ,countA, \"patients of blood type O.\")\n",
    "\n",
    "countA = blood_list_patient.count('OO')\n",
    "print(\"There are \" ,countA, \"patients of blood type OO.\")\n"
   ]
  },
  {
   "cell_type": "markdown",
   "id": "0cd38f7e",
   "metadata": {},
   "source": [
    "# question 8\n",
    "Write a function curconv() that takes as input:\n",
    "1. a currency represented using a string (e.g., 'JPY' for the Japanese Yen or 'EUR' for the Euro)\n",
    "2. an amount\n",
    "and then converts and returns the amount in US dollars."
   ]
  },
  {
   "cell_type": "code",
   "execution_count": 2,
   "id": "c44e4471",
   "metadata": {},
   "outputs": [
    {
     "name": "stdout",
     "output_type": "stream",
     "text": [
      "122.96544\n",
      "1.241401\n"
     ]
    }
   ],
   "source": [
    "c_file = open(\"currencies.txt\", \"r\")\n",
    "list_of_lists=[]\n",
    "for line in c_file:\n",
    "  stripped_line = line.strip()\n",
    "  line_list1 = stripped_line.split(\"\\t\")\n",
    "  list_of_lists.append(line_list1)\n",
    "\n",
    "c_file.close()\n",
    "#print(list_of_lists)\n",
    "\n",
    "#reference https://stackoverflow.com/questions/903853/how-do-you-extract-a-column-from-a-multi-dimensional-array\n",
    "def column(matrix, i):\n",
    "    return [row[i] for row in matrix]\n",
    "\n",
    "\n",
    "key=column(list_of_lists,0)\n",
    "value=column(list_of_lists,1)\n",
    "\n",
    "\n",
    "\n",
    "#reference https://www.kite.com/python/answers/how-to-create-a-dictionary-from-two-lists-in-python\n",
    "zip_iterator = zip(key, value)\n",
    "dict_currency = dict(zip_iterator)\n",
    "\n",
    "\n",
    "#print(dict_currency)\n",
    "\n",
    "def curconv(curr_code,amount):\n",
    "    return float(dict_currency.get(curr_code))*amount\n",
    "\n",
    "usdamount2=curconv('EUR',100)\n",
    "print(usdamount2)\n",
    "\n",
    "usdamount=curconv('JPY',100)\n",
    "print(usdamount)\n"
   ]
  },
  {
   "cell_type": "markdown",
   "id": "ee621963",
   "metadata": {},
   "source": [
    "# Question 9 \n",
    "Each of the following will cause an exception (an error). Identify what type of exception each will cause.\n",
    "\n",
    "1.Trying to add incompatible variables, as in adding 6 + ‘a’\n",
    "2.Referring to the 12th item of a list that has only 10 items\n",
    "3.Using a value that is out of range for a function’s input, such as calling math.sqrt( 1.0)\n",
    "4.Using an undeclared variable, such as p rint(x)\n",
    "5.when x has not been defined\n",
    "6.Trying to open a file that does not exist, such as mistyping the file name or looking in the wrong directory."
   ]
  },
  {
   "cell_type": "markdown",
   "id": "1323d026",
   "metadata": {},
   "source": [
    "1. 6+'a' integer and string can not be concatinated\n",
    "2. list index out of range\n",
    "3. value error\n",
    "4. invalid syntex / 'variable' is not defined\n",
    "5. Nameerror : name 'x' is not defined\n",
    "6. No such file or file name:"
   ]
  },
  {
   "cell_type": "markdown",
   "id": "a0b8e12b",
   "metadata": {},
   "source": [
    "# question 10\n",
    "Write a function called frequencies() that takes a string as its only parameter, and returns a list of integers, showing the number of times each character appears in the text. Your function may ignore any characters that are not in letters."
   ]
  },
  {
   "cell_type": "code",
   "execution_count": 12,
   "id": "e70d77ea",
   "metadata": {},
   "outputs": [
    {
     "name": "stdout",
     "output_type": "stream",
     "text": [
      "[1, 1, 1, 3, 5, 1, 1, 2, 1, 0, 1, 0, 1, 2, 4, 0, 1, 2, 0, 2, 1, 0, 1, 1, 0, 0]\n",
      "[1, 0, 0, 0, 1, 0, 0, 0, 0, 0, 0, 1, 0, 0, 0, 2, 0, 0, 0, 0, 0, 0, 0, 0, 0, 0]\n"
     ]
    }
   ],
   "source": [
    "\n",
    "def frequencies(name):\n",
    "    s2 = name\n",
    "    s = 'abcdefghijklmnopqrstuvwxyz'\n",
    "    output=[]\n",
    "    for i in s:\n",
    "        output.append(s2.count(i))\n",
    "    print(output) \n",
    "    \n",
    "frequencies('The quick red fox got bored and went home.')\n",
    "frequencies('apple')\n"
   ]
  }
 ],
 "metadata": {
  "kernelspec": {
   "display_name": "Python 3 (ipykernel)",
   "language": "python",
   "name": "python3"
  },
  "language_info": {
   "codemirror_mode": {
    "name": "ipython",
    "version": 3
   },
   "file_extension": ".py",
   "mimetype": "text/x-python",
   "name": "python",
   "nbconvert_exporter": "python",
   "pygments_lexer": "ipython3",
   "version": "3.9.7"
  }
 },
 "nbformat": 4,
 "nbformat_minor": 5
}
